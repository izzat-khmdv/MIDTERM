{
  "nbformat": 4,
  "nbformat_minor": 0,
  "metadata": {
    "colab": {
      "provenance": [],
      "authorship_tag": "ABX9TyOSQXFTHJ0lHOiN8awnFfKW",
      "include_colab_link": true
    },
    "kernelspec": {
      "name": "python3",
      "display_name": "Python 3"
    },
    "language_info": {
      "name": "python"
    }
  },
  "cells": [
    {
      "cell_type": "markdown",
      "metadata": {
        "id": "view-in-github",
        "colab_type": "text"
      },
      "source": [
        "<a href=\"https://colab.research.google.com/github/izzat-khmdv/MIDTERM/blob/main/Midterm.ipynb\" target=\"_parent\"><img src=\"https://colab.research.google.com/assets/colab-badge.svg\" alt=\"Open In Colab\"/></a>"
      ]
    },
    {
      "cell_type": "code",
      "execution_count": 1,
      "metadata": {
        "id": "0qeTqJJDf6GW"
      },
      "outputs": [],
      "source": [
        "#creating table for vehicles\n",
        "from sqlalchemy import create_engine\n",
        "my_conn = create_engine(\"sqlite:////content/vehicles\")"
      ]
    },
    {
      "cell_type": "code",
      "source": [
        "from sqlalchemy.exc import SQLAlchemyError\n",
        "try:\n",
        "     my_conn.execute('''\n",
        "      CREATE TABLE IF NOT EXISTS vehicles (\n",
        "      vhcl_data_id,\n",
        "      vh_id,\n",
        "      reg_id,\n",
        "      manufacturer,\n",
        "      model,\n",
        "      color,\n",
        "      current_odometr,\n",
        "      pass_capacity\n",
        "      );''')\n",
        "\n",
        "     print(\"vehicles Table created successfully\")\n",
        "except SQLAlchemyError as e:\n",
        "   #print (e)\n",
        "   error=str(e._dict_['orig'])\n",
        "   print(error)"
      ],
      "metadata": {
        "colab": {
          "base_uri": "https://localhost:8080/"
        },
        "id": "k2o1RUtYgACE",
        "outputId": "2f0cd18c-2683-471b-a203-d3cc524ca57d"
      },
      "execution_count": 2,
      "outputs": [
        {
          "output_type": "stream",
          "name": "stdout",
          "text": [
            "vehicles Table created successfully\n"
          ]
        }
      ]
    },
    {
      "cell_type": "code",
      "source": [
        "#inserting data into vehicles table\n",
        "r_set=my_conn.execute('''INSERT INTO `vehicles`\n",
        "(`vhcl_data_id`, `vh_id`, `reg_id`, `manufacturer`, `model`, `color`, `current_odometr`, `pass_capacity`) VALUES\n",
        "(1, 'V1000', '2001 ABC', 'Volvo', 'XC90 SE', 'Silver', 4350, 4),\n",
        "(2, 'V1001', '2006 AFD', 'Kia', 'K7', 'Black', 2195, 4),\n",
        "(3, 'V1002', '2021 AHR', 'Tesla', '2020 F', 'White', 509, 4),\n",
        "(4, 'V1003', '2020 DXF', 'Ford', 'Transit', 'Silver', 974, 2); ''')"
      ],
      "metadata": {
        "id": "SEppTuFTgPUZ"
      },
      "execution_count": 3,
      "outputs": []
    },
    {
      "cell_type": "code",
      "source": [
        "#creating table for vehicles_work\n",
        "from sqlalchemy import create_engine\n",
        "my_conn = create_engine(\"sqlite:////content/vehicles_work\")"
      ],
      "metadata": {
        "id": "VWgvSbT7gThJ"
      },
      "execution_count": 4,
      "outputs": []
    },
    {
      "cell_type": "code",
      "source": [
        "from sqlalchemy.exc import SQLAlchemyError\n",
        "try:\n",
        "     my_conn.execute('''\n",
        "      CREATE TABLE IF NOT EXISTS vehicles_work (vhcl_work_id, \n",
        "      m_or_r, \n",
        "      odometr, \n",
        "      the_final_cost, \n",
        "      action, \n",
        "      date);''')\n",
        "     print(\"vehicles_work Table created successfully\")\n",
        "except SQLAlchemyError as e:\n",
        "   #print (e)\n",
        "   error=str(e._dict_['orig'])\n",
        "   print(error)"
      ],
      "metadata": {
        "colab": {
          "base_uri": "https://localhost:8080/"
        },
        "id": "Z80vig1VgXOI",
        "outputId": "1470ad05-0067-4505-a3ce-28a7f87b89cf"
      },
      "execution_count": 5,
      "outputs": [
        {
          "output_type": "stream",
          "name": "stdout",
          "text": [
            "vehicles_work Table created successfully\n"
          ]
        }
      ]
    },
    {
      "cell_type": "code",
      "source": [
        "#inserting data into vehicles_work\n",
        "r_set=my_conn.execute('''INSERT INTO `vehicles_work`\n",
        "(`vhcl_work_id`, `m_or_r`, `odometr`, `the_final_cost`, `action`, `date`) VALUES\n",
        "(1, 'maintenance', '569', '$270', 'engine maintenance', '2022-06-13'),\n",
        "(2, 'repair', '7564', '$699', 'conditioning system repair', '2022-06-20'),\n",
        "(3, 'maintenance', '852', '$410', 'salon maintenance', '2022-06-25'); ''')"
      ],
      "metadata": {
        "id": "ZiFHJXozgbDs"
      },
      "execution_count": 6,
      "outputs": []
    },
    {
      "cell_type": "code",
      "source": [
        "#creating tables for country_participants\n",
        "from sqlalchemy import create_engine\n",
        "my_conn = create_engine(\"sqlite:////content/country_participants\")"
      ],
      "metadata": {
        "id": "iiJvK6OFgdy-"
      },
      "execution_count": 7,
      "outputs": []
    },
    {
      "cell_type": "code",
      "source": [
        "from sqlalchemy.exc import SQLAlchemyError\n",
        "try:\n",
        "     my_conn.execute('''\n",
        "      CREATE TABLE IF NOT EXISTS country_participants (country_id,\n",
        "      country_name,\n",
        "      languages);''')\n",
        "     print(\"country_participants Table created successfully\")\n",
        "except SQLAlchemyError as e:\n",
        "   #print (e)\n",
        "   error=str(e._dict_['orig'])\n",
        "   print(error)"
      ],
      "metadata": {
        "colab": {
          "base_uri": "https://localhost:8080/"
        },
        "id": "FbH5BtuVgkB5",
        "outputId": "817dabaa-1cc1-476c-f587-22678d37ad18"
      },
      "execution_count": 8,
      "outputs": [
        {
          "output_type": "stream",
          "name": "stdout",
          "text": [
            "country_participants Table created successfully\n"
          ]
        }
      ]
    },
    {
      "cell_type": "code",
      "source": [
        "#populating the country_participants tables with data\n",
        "r_set=my_conn.execute('''INSERT INTO `country_participants`\n",
        "(`country_id`, `country_name`, `languages`) VALUES\n",
        "(1, 'ISO 3166-2:KR', 'Korean'),\n",
        "(2, 'ISO 3166-2:KZ', 'Kazakh'),\n",
        "(3, 'ISO 3166-2:DE', 'German'),\n",
        "(4, 'ISO 3166-2:UZ', 'Uzbek'),\n",
        "(5, 'ISO 3166-2:PH', 'Filipino'),\n",
        "(6, 'ISO 3166-2:NL', 'English'),\n",
        "(7, 'ISO 3166-2:GB', 'English'),\n",
        "(8, 'ISO 3166-2:RU', 'Russian'); ''')"
      ],
      "metadata": {
        "id": "l1ZAo3Fegp9D"
      },
      "execution_count": 9,
      "outputs": []
    },
    {
      "cell_type": "code",
      "source": [
        "#creating table for game_officials\n",
        "from sqlalchemy import create_engine\n",
        "my_conn = create_engine(\"sqlite:////content/game_officials\")"
      ],
      "metadata": {
        "id": "RGQk72v-gssS"
      },
      "execution_count": 10,
      "outputs": []
    },
    {
      "cell_type": "code",
      "source": [
        "from sqlalchemy.exc import SQLAlchemyError\n",
        "try:\n",
        "     my_conn.execute('''\n",
        "      CREATE TABLE IF NOT EXISTS game_officials (offcl_id,\n",
        "      country_name,\n",
        "      city_id,\n",
        "      offcl_name,\n",
        "      role,\n",
        "      pr_language);''')\n",
        "     print(\"game_officials Table created successfully\")\n",
        "except SQLAlchemyError as e:\n",
        "   #print (e)\n",
        "   error=str(e._dict_['orig'])\n",
        "   print(error)"
      ],
      "metadata": {
        "colab": {
          "base_uri": "https://localhost:8080/"
        },
        "id": "3xC6Z4Q1gvre",
        "outputId": "9a5886f2-7756-4821-a832-c7a5b490e2ab"
      },
      "execution_count": 11,
      "outputs": [
        {
          "output_type": "stream",
          "name": "stdout",
          "text": [
            "game_officials Table created successfully\n"
          ]
        }
      ]
    },
    {
      "cell_type": "code",
      "source": [
        "#populating game_officials table with data\n",
        "r_set=my_conn.execute('''INSERT INTO `game_officials`\n",
        "(`offcl_id`, `country_name`, `city_id`, `offcl_name`, `role`, `pr_language`) VALUES\n",
        "(1, 'Korea', 45457888, 'Kim Tae Yoon', 'coach', 'Korean'),\n",
        "(2, 'Kazakhstan', 43889933, 'Baltabaev Kadir', 'physician', 'Russian'),\n",
        "(3, 'Germany', 22455433, 'Daniel Friedman', 'coach', 'English'),\n",
        "(4, 'Uzbekistan', 55669900, 'Izzat Khamidov', 'judge', 'English'),\n",
        "(5, 'Philippines', 66889922, 'Emily Karinira', 'coach', 'English'),\n",
        "(6, 'Netherlands', 77883399, 'Samantha Barmunt', 'judge', 'English'),\n",
        "(7, 'Great Britain', 77881141, 'James Cordon', 'physician', 'English');''')"
      ],
      "metadata": {
        "id": "DHEDXXH6gyL4"
      },
      "execution_count": 12,
      "outputs": []
    },
    {
      "cell_type": "code",
      "source": [
        "#creating driver table\n",
        "from sqlalchemy import create_engine\n",
        "my_conn = create_engine(\"sqlite:////content/driver\")"
      ],
      "metadata": {
        "id": "AE3S4KzMg09v"
      },
      "execution_count": 13,
      "outputs": []
    },
    {
      "cell_type": "code",
      "source": [
        "from sqlalchemy.exc import SQLAlchemyError\n",
        "try:\n",
        "     my_conn.execute('''\n",
        "      CREATE TABLE IF NOT EXISTS driver (driver_id,\n",
        "      drv_name,\n",
        "      license_number,\n",
        "      clearence_level,\n",
        "      language,\n",
        "      STLVT_date,\n",
        "      STLVT_level,\n",
        "      FATL_date,\n",
        "      FATL_level);''')\n",
        "     print(\"driver Table created successfully\")\n",
        "except SQLAlchemyError as e:\n",
        "   #print (e)\n",
        "   error=str(e._dict_['orig'])\n",
        "   print(error)"
      ],
      "metadata": {
        "colab": {
          "base_uri": "https://localhost:8080/"
        },
        "id": "51crqfvYg6EE",
        "outputId": "a5b73564-2641-4f96-d00e-b177db7d510e"
      },
      "execution_count": 14,
      "outputs": [
        {
          "output_type": "stream",
          "name": "stdout",
          "text": [
            "driver Table created successfully\n"
          ]
        }
      ]
    },
    {
      "cell_type": "code",
      "source": [
        "#inserting data into driver table\n",
        "r_set=my_conn.execute('''INSERT INTO `driver`\n",
        "(`driver_id`, `drv_name`, `license_number`, `clearence_level`, `language`, `STLVT_date`, \n",
        "`STLVT_level`, `FATL_date`, `FATL_level`) VALUES\n",
        "(1, 'James', '48989487830HHHLK22', 'Confidential', 'English', '2018-08-22', 4, '2017-03-13', 8),\n",
        "(2, 'PakJiMin', '993478GGG74OP1112', 'Confidential', 'Korean', '2016-11-02', 3, '2020-04-10', 7),\n",
        "(3, 'Ivan', '00883377712UUTH99', 'Confidential', 'Russian', '2021-06-09', 2, '2022-02-18', 6);''')"
      ],
      "metadata": {
        "id": "Q9Akzi7ShXza"
      },
      "execution_count": 15,
      "outputs": []
    },
    {
      "cell_type": "code",
      "source": [
        "#creating trip table\n",
        "from sqlalchemy import create_engine\n",
        "my_conn = create_engine(\"sqlite:////content/trip\")"
      ],
      "metadata": {
        "id": "Vz5NC9n2h5Ce"
      },
      "execution_count": 16,
      "outputs": []
    },
    {
      "cell_type": "code",
      "source": [
        "from sqlalchemy.exc import SQLAlchemyError\n",
        "try:\n",
        "     my_conn.execute('''\n",
        "      CREATE TABLE IF NOT EXISTS trip (trip_id,\n",
        "      booking_ref_num,\n",
        "      start_datetime,\n",
        "      end_datetime,\n",
        "      odo_start,\n",
        "      odo_end);''')\n",
        "     print(\"trip Table created successfully\")\n",
        "except SQLAlchemyError as e:\n",
        "   #print (e)\n",
        "   error=str(e._dict_['orig'])\n",
        "   print(error)"
      ],
      "metadata": {
        "colab": {
          "base_uri": "https://localhost:8080/"
        },
        "id": "wr4qy5SHh8gD",
        "outputId": "8adefa28-c3f1-4733-ee9e-cdbc32df5de4"
      },
      "execution_count": 17,
      "outputs": [
        {
          "output_type": "stream",
          "name": "stdout",
          "text": [
            "trip Table created successfully\n"
          ]
        }
      ]
    },
    {
      "cell_type": "code",
      "source": [
        "#populating trip table with data\n",
        "r_set=my_conn.execute('''INSERT INTO `trip`\n",
        "(`trip_id`, `booking_ref_num`, `start_datetime`, `end_datetime`, `odo_start`, `odo_end`) VALUES\n",
        "(1, 22022, '2022-10-13-12:44', '2022-10-13-15:00', 440, 460),\n",
        "(2, 90032, '2022-10-14-15:30', '2022-10-14-16:12', 670, 698),\n",
        "(3, 12220, '2022-10-15-10:30', '2022-10-15-12:05', 309, 331);''')"
      ],
      "metadata": {
        "id": "J1gQS7JwiMgC"
      },
      "execution_count": 18,
      "outputs": []
    },
    {
      "cell_type": "code",
      "source": [
        "#creating pickup table\n",
        "from sqlalchemy import create_engine\n",
        "my_conn = create_engine(\"sqlite:////content/pickup\")"
      ],
      "metadata": {
        "id": "_t2-3eeoidTw"
      },
      "execution_count": 19,
      "outputs": []
    },
    {
      "cell_type": "code",
      "source": [
        "from sqlalchemy.exc import SQLAlchemyError\n",
        "try:\n",
        "     my_conn.execute('''\n",
        "      CREATE TABLE IF NOT EXISTS pickup (num_id,\n",
        "      city,\n",
        "      street_num,\n",
        "      location_type);''')\n",
        "     print(\"pickup Table created successfully\")\n",
        "except SQLAlchemyError as e:\n",
        "   #print (e)\n",
        "   error=str(e._dict_['orig'])\n",
        "   print(error)"
      ],
      "metadata": {
        "colab": {
          "base_uri": "https://localhost:8080/"
        },
        "id": "TomuiNe_ijYj",
        "outputId": "4ee04cdc-a00b-471c-fbde-af568adaeb50"
      },
      "execution_count": 20,
      "outputs": [
        {
          "output_type": "stream",
          "name": "stdout",
          "text": [
            "pickup Table created successfully\n"
          ]
        }
      ]
    },
    {
      "cell_type": "code",
      "source": [
        "#inserting data into pickup table\n",
        "r_set=my_conn.execute('''INSERT INTO `pickup`\n",
        "(`num_id`, `city`, `street_num`, `location_type`) VALUES\n",
        "(1, 'Seoul', 'Yongjin-ro 2200', 'Hotel'),\n",
        "(2, 'Incheon', 'Songdo-do 2230', 'Hotel'),\n",
        "(3, 'Seoul', 'Yongsan-gu 12200', 'Hotel');''')"
      ],
      "metadata": {
        "id": "lWneCqYCiujp"
      },
      "execution_count": 23,
      "outputs": []
    },
    {
      "cell_type": "code",
      "source": [
        "#creating dropoff table\n",
        "from sqlalchemy import create_engine\n",
        "my_conn = create_engine(\"sqlite:////content/dropoff\")"
      ],
      "metadata": {
        "id": "I-jMBJR1jBFD"
      },
      "execution_count": 24,
      "outputs": []
    },
    {
      "cell_type": "code",
      "source": [
        "from sqlalchemy.exc import SQLAlchemyError\n",
        "try:\n",
        "     my_conn.execute('''\n",
        "      CREATE TABLE IF NOT EXISTS dropoff (num_id,\n",
        "      city,\n",
        "      street_num,\n",
        "      location_type);''')\n",
        "     print(\"dropoff Table created successfully\")\n",
        "except SQLAlchemyError as e:\n",
        "   #print (e)\n",
        "   error=str(e._dict_['orig'])\n",
        "   print(error)"
      ],
      "metadata": {
        "colab": {
          "base_uri": "https://localhost:8080/"
        },
        "id": "MMo-ZQwejEoY",
        "outputId": "7cd4173b-754e-4061-e621-39a441aa906c"
      },
      "execution_count": 25,
      "outputs": [
        {
          "output_type": "stream",
          "name": "stdout",
          "text": [
            "dropoff Table created successfully\n"
          ]
        }
      ]
    },
    {
      "cell_type": "code",
      "source": [
        "#inserting data into dropoff table\n",
        "r_set=my_conn.execute('''INSERT INTO `dropoff`\n",
        "(`num_id`, `city`, `street_num`, `location_type`) VALUES\n",
        "(1, 'Suwon', 'Chanchin-gu 54400', 'Park'),\n",
        "(2, 'Incheon', 'Michuhol-gu 22200', 'Cetral Office'),\n",
        "(3, 'Busan', 'Dangeun-ro 66699', 'Hotel');''')"
      ],
      "metadata": {
        "id": "3Ht3uYWujLEm"
      },
      "execution_count": 26,
      "outputs": []
    }
  ]
}